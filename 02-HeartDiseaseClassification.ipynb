{
 "cells": [
  {
   "cell_type": "markdown",
   "metadata": {},
   "source": [
    "# Reading data"
   ]
  },
  {
   "cell_type": "code",
   "execution_count": 53,
   "metadata": {},
   "outputs": [],
   "source": [
    "import pandas as pd"
   ]
  },
  {
   "cell_type": "code",
   "execution_count": 54,
   "metadata": {},
   "outputs": [],
   "source": [
    "HDNames = ['age', 'sex', 'cp', 'trestbps', 'chol', 'fbs', 'restecg', 'thalach', 'exang', 'oldpeak', 'slope', 'ca', 'hal', 'HeartDisease']"
   ]
  },
  {
   "cell_type": "code",
   "execution_count": 55,
   "metadata": {},
   "outputs": [],
   "source": [
    "Data = pd.read_excel('ClevelandData.xlsx', names=HDNames)"
   ]
  },
  {
   "cell_type": "markdown",
   "metadata": {},
   "source": [
    "# Exploratory analysis"
   ]
  },
  {
   "cell_type": "code",
   "execution_count": 56,
   "metadata": {},
   "outputs": [
    {
     "name": "stdout",
     "output_type": "stream",
     "text": [
      "    age  sex  cp  trestbps  chol  fbs  restecg  thalach  exang  oldpeak  \\\n",
      "0    67    1   4       160   286    0        2      108      1      1.5   \n",
      "1    67    1   4       120   229    0        2      129      1      2.6   \n",
      "2    37    1   3       130   250    0        0      187      0      3.5   \n",
      "3    41    0   2       130   204    0        2      172      0      1.4   \n",
      "4    56    1   2       120   236    0        0      178      0      0.8   \n",
      "5    62    0   4       140   268    0        2      160      0      3.6   \n",
      "6    57    0   4       120   354    0        0      163      1      0.6   \n",
      "7    63    1   4       130   254    0        2      147      0      1.4   \n",
      "8    53    1   4       140   203    1        2      155      1      3.1   \n",
      "9    57    1   4       140   192    0        0      148      0      0.4   \n",
      "10   56    0   2       140   294    0        2      153      0      1.3   \n",
      "11   56    1   3       130   256    1        2      142      1      0.6   \n",
      "12   44    1   2       120   263    0        0      173      0      0.0   \n",
      "13   52    1   3       172   199    1        0      162      0      0.5   \n",
      "14   57    1   3       150   168    0        0      174      0      1.6   \n",
      "15   48    1   2       110   229    0        0      168      0      1.0   \n",
      "16   54    1   4       140   239    0        0      160      0      1.2   \n",
      "17   48    0   3       130   275    0        0      139      0      0.2   \n",
      "18   49    1   2       130   266    0        0      171      0      0.6   \n",
      "19   64    1   1       110   211    0        2      144      1      1.8   \n",
      "\n",
      "    slope ca hal  HeartDisease  \n",
      "0       2  3   3             1  \n",
      "1       2  2   7             1  \n",
      "2       3  0   3             0  \n",
      "3       1  0   3             0  \n",
      "4       1  0   3             0  \n",
      "5       3  2   3             1  \n",
      "6       1  0   3             0  \n",
      "7       2  1   7             1  \n",
      "8       3  0   7             1  \n",
      "9       2  0   6             0  \n",
      "10      2  0   3             0  \n",
      "11      2  1   6             1  \n",
      "12      1  0   7             0  \n",
      "13      1  0   7             0  \n",
      "14      1  0   3             0  \n",
      "15      3  0   7             1  \n",
      "16      1  0   3             0  \n",
      "17      1  0   3             0  \n",
      "18      1  0   3             0  \n",
      "19      2  0   3             0  \n"
     ]
    }
   ],
   "source": [
    "print(Data.head(20))"
   ]
  },
  {
   "cell_type": "code",
   "execution_count": 57,
   "metadata": {},
   "outputs": [
    {
     "name": "stdout",
     "output_type": "stream",
     "text": [
      "<class 'pandas.core.frame.DataFrame'>\n",
      "RangeIndex: 302 entries, 0 to 301\n",
      "Data columns (total 14 columns):\n",
      "age             302 non-null int64\n",
      "sex             302 non-null int64\n",
      "cp              302 non-null int64\n",
      "trestbps        302 non-null int64\n",
      "chol            302 non-null int64\n",
      "fbs             302 non-null int64\n",
      "restecg         302 non-null int64\n",
      "thalach         302 non-null int64\n",
      "exang           302 non-null int64\n",
      "oldpeak         302 non-null float64\n",
      "slope           302 non-null int64\n",
      "ca              302 non-null object\n",
      "hal             302 non-null object\n",
      "HeartDisease    302 non-null int64\n",
      "dtypes: float64(1), int64(11), object(2)\n",
      "memory usage: 33.2+ KB\n",
      "None\n"
     ]
    }
   ],
   "source": [
    "print(Data.info())"
   ]
  },
  {
   "cell_type": "code",
   "execution_count": 58,
   "metadata": {},
   "outputs": [
    {
     "name": "stdout",
     "output_type": "stream",
     "text": [
      "              age         sex          cp    trestbps        chol         fbs  \\\n",
      "count  302.000000  302.000000  302.000000  302.000000  302.000000  302.000000   \n",
      "mean    54.410596    0.678808    3.165563  131.645695  246.738411    0.145695   \n",
      "std      9.040163    0.467709    0.953612   17.612202   51.856829    0.353386   \n",
      "min     29.000000    0.000000    1.000000   94.000000  126.000000    0.000000   \n",
      "25%     48.000000    0.000000    3.000000  120.000000  211.000000    0.000000   \n",
      "50%     55.500000    1.000000    3.000000  130.000000  241.500000    0.000000   \n",
      "75%     61.000000    1.000000    4.000000  140.000000  275.000000    0.000000   \n",
      "max     77.000000    1.000000    4.000000  200.000000  564.000000    1.000000   \n",
      "\n",
      "          restecg     thalach       exang     oldpeak       slope  \\\n",
      "count  302.000000  302.000000  302.000000  302.000000  302.000000   \n",
      "mean     0.986755  149.605960    0.327815    1.035430    1.596026   \n",
      "std      0.994916   22.912959    0.470196    1.160723    0.611939   \n",
      "min      0.000000   71.000000    0.000000    0.000000    1.000000   \n",
      "25%      0.000000  133.250000    0.000000    0.000000    1.000000   \n",
      "50%      0.500000  153.000000    0.000000    0.800000    2.000000   \n",
      "75%      2.000000  166.000000    1.000000    1.600000    2.000000   \n",
      "max      2.000000  202.000000    1.000000    6.200000    3.000000   \n",
      "\n",
      "       HeartDisease  \n",
      "count    302.000000  \n",
      "mean       0.460265  \n",
      "std        0.499246  \n",
      "min        0.000000  \n",
      "25%        0.000000  \n",
      "50%        0.000000  \n",
      "75%        1.000000  \n",
      "max        1.000000  \n"
     ]
    }
   ],
   "source": [
    "summary = Data.describe()\n",
    "print(summary)"
   ]
  },
  {
   "cell_type": "markdown",
   "metadata": {},
   "source": [
    "# Handling missin values"
   ]
  },
  {
   "cell_type": "code",
   "execution_count": 59,
   "metadata": {},
   "outputs": [],
   "source": [
    "import numpy as np"
   ]
  },
  {
   "cell_type": "code",
   "execution_count": 60,
   "metadata": {},
   "outputs": [],
   "source": [
    "DataNew = Data.replace('?', np.nan)"
   ]
  },
  {
   "cell_type": "code",
   "execution_count": 61,
   "metadata": {},
   "outputs": [
    {
     "name": "stdout",
     "output_type": "stream",
     "text": [
      "<class 'pandas.core.frame.DataFrame'>\n",
      "RangeIndex: 302 entries, 0 to 301\n",
      "Data columns (total 14 columns):\n",
      "age             302 non-null int64\n",
      "sex             302 non-null int64\n",
      "cp              302 non-null int64\n",
      "trestbps        302 non-null int64\n",
      "chol            302 non-null int64\n",
      "fbs             302 non-null int64\n",
      "restecg         302 non-null int64\n",
      "thalach         302 non-null int64\n",
      "exang           302 non-null int64\n",
      "oldpeak         302 non-null float64\n",
      "slope           302 non-null int64\n",
      "ca              298 non-null float64\n",
      "hal             300 non-null float64\n",
      "HeartDisease    302 non-null int64\n",
      "dtypes: float64(3), int64(11)\n",
      "memory usage: 33.2 KB\n",
      "None\n"
     ]
    }
   ],
   "source": [
    "print(DataNew.info())"
   ]
  },
  {
   "cell_type": "code",
   "execution_count": 62,
   "metadata": {},
   "outputs": [
    {
     "name": "stdout",
     "output_type": "stream",
     "text": [
      "              age         sex          cp    trestbps        chol         fbs  \\\n",
      "count  302.000000  302.000000  302.000000  302.000000  302.000000  302.000000   \n",
      "mean    54.410596    0.678808    3.165563  131.645695  246.738411    0.145695   \n",
      "std      9.040163    0.467709    0.953612   17.612202   51.856829    0.353386   \n",
      "min     29.000000    0.000000    1.000000   94.000000  126.000000    0.000000   \n",
      "25%     48.000000    0.000000    3.000000  120.000000  211.000000    0.000000   \n",
      "50%     55.500000    1.000000    3.000000  130.000000  241.500000    0.000000   \n",
      "75%     61.000000    1.000000    4.000000  140.000000  275.000000    0.000000   \n",
      "max     77.000000    1.000000    4.000000  200.000000  564.000000    1.000000   \n",
      "\n",
      "          restecg     thalach       exang     oldpeak       slope          ca  \\\n",
      "count  302.000000  302.000000  302.000000  302.000000  302.000000  298.000000   \n",
      "mean     0.986755  149.605960    0.327815    1.035430    1.596026    0.674497   \n",
      "std      0.994916   22.912959    0.470196    1.160723    0.611939    0.938202   \n",
      "min      0.000000   71.000000    0.000000    0.000000    1.000000    0.000000   \n",
      "25%      0.000000  133.250000    0.000000    0.000000    1.000000    0.000000   \n",
      "50%      0.500000  153.000000    0.000000    0.800000    2.000000    0.000000   \n",
      "75%      2.000000  166.000000    1.000000    1.600000    2.000000    1.000000   \n",
      "max      2.000000  202.000000    1.000000    6.200000    3.000000    3.000000   \n",
      "\n",
      "              hal  HeartDisease  \n",
      "count  300.000000    302.000000  \n",
      "mean     4.730000      0.460265  \n",
      "std      1.941563      0.499246  \n",
      "min      3.000000      0.000000  \n",
      "25%      3.000000      0.000000  \n",
      "50%      3.000000      0.000000  \n",
      "75%      7.000000      1.000000  \n",
      "max      7.000000      1.000000  \n"
     ]
    }
   ],
   "source": [
    "print(DataNew.describe())"
   ]
  },
  {
   "cell_type": "code",
   "execution_count": 63,
   "metadata": {},
   "outputs": [
    {
     "name": "stdout",
     "output_type": "stream",
     "text": [
      "age             0\n",
      "sex             0\n",
      "cp              0\n",
      "trestbps        0\n",
      "chol            0\n",
      "fbs             0\n",
      "restecg         0\n",
      "thalach         0\n",
      "exang           0\n",
      "oldpeak         0\n",
      "slope           0\n",
      "ca              4\n",
      "hal             2\n",
      "HeartDisease    0\n",
      "dtype: int64\n"
     ]
    }
   ],
   "source": [
    "print(DataNew.isnull().sum())"
   ]
  },
  {
   "cell_type": "code",
   "execution_count": 64,
   "metadata": {},
   "outputs": [],
   "source": [
    "DataNew = DataNew.dropna()"
   ]
  },
  {
   "cell_type": "code",
   "execution_count": 65,
   "metadata": {},
   "outputs": [
    {
     "name": "stdout",
     "output_type": "stream",
     "text": [
      "<class 'pandas.core.frame.DataFrame'>\n",
      "Int64Index: 296 entries, 0 to 300\n",
      "Data columns (total 14 columns):\n",
      "age             296 non-null int64\n",
      "sex             296 non-null int64\n",
      "cp              296 non-null int64\n",
      "trestbps        296 non-null int64\n",
      "chol            296 non-null int64\n",
      "fbs             296 non-null int64\n",
      "restecg         296 non-null int64\n",
      "thalach         296 non-null int64\n",
      "exang           296 non-null int64\n",
      "oldpeak         296 non-null float64\n",
      "slope           296 non-null int64\n",
      "ca              296 non-null float64\n",
      "hal             296 non-null float64\n",
      "HeartDisease    296 non-null int64\n",
      "dtypes: float64(3), int64(11)\n",
      "memory usage: 34.7 KB\n",
      "None\n"
     ]
    }
   ],
   "source": [
    "print(DataNew.info())"
   ]
  },
  {
   "cell_type": "code",
   "execution_count": 66,
   "metadata": {},
   "outputs": [
    {
     "name": "stdout",
     "output_type": "stream",
     "text": [
      "age             0\n",
      "sex             0\n",
      "cp              0\n",
      "trestbps        0\n",
      "chol            0\n",
      "fbs             0\n",
      "restecg         0\n",
      "thalach         0\n",
      "exang           0\n",
      "oldpeak         0\n",
      "slope           0\n",
      "ca              0\n",
      "hal             0\n",
      "HeartDisease    0\n",
      "dtype: int64\n"
     ]
    }
   ],
   "source": [
    "print(DataNew.isnull().sum())"
   ]
  },
  {
   "cell_type": "markdown",
   "metadata": {},
   "source": [
    "# Data scaling"
   ]
  },
  {
   "cell_type": "code",
   "execution_count": 67,
   "metadata": {},
   "outputs": [
    {
     "name": "stdout",
     "output_type": "stream",
     "text": [
      "   age  sex  cp  trestbps  chol  fbs  restecg  thalach  exang  oldpeak  slope  \\\n",
      "0   67    1   4       160   286    0        2      108      1      1.5      2   \n",
      "1   67    1   4       120   229    0        2      129      1      2.6      2   \n",
      "2   37    1   3       130   250    0        0      187      0      3.5      3   \n",
      "3   41    0   2       130   204    0        2      172      0      1.4      1   \n",
      "4   56    1   2       120   236    0        0      178      0      0.8      1   \n",
      "\n",
      "    ca  hal  \n",
      "0  3.0  3.0  \n",
      "1  2.0  7.0  \n",
      "2  0.0  3.0  \n",
      "3  0.0  3.0  \n",
      "4  0.0  3.0  \n",
      "\n",
      "   HeartDisease\n",
      "0             1\n",
      "1             1\n",
      "2             0\n",
      "3             0\n",
      "4             0\n"
     ]
    }
   ],
   "source": [
    "InputNames = HDNames\n",
    "InputNames.pop()\n",
    "Input = pd.DataFrame(DataNew.iloc[:, 0:13], columns=InputNames)\n",
    "Target = pd.DataFrame(DataNew.iloc[:, 13], columns=['HeartDisease'])\n",
    "\n",
    "print(Input.head())\n",
    "print()\n",
    "print(Target.head())"
   ]
  },
  {
   "cell_type": "code",
   "execution_count": 68,
   "metadata": {},
   "outputs": [],
   "source": [
    "from sklearn.preprocessing import StandardScaler"
   ]
  },
  {
   "cell_type": "code",
   "execution_count": 69,
   "metadata": {},
   "outputs": [],
   "source": [
    "scaler = StandardScaler()"
   ]
  },
  {
   "cell_type": "code",
   "execution_count": 70,
   "metadata": {},
   "outputs": [
    {
     "name": "stdout",
     "output_type": "stream",
     "text": [
      "StandardScaler(copy=True, with_mean=True, with_std=True)\n"
     ]
    }
   ],
   "source": [
    "print(scaler.fit(Input))"
   ]
  },
  {
   "cell_type": "code",
   "execution_count": 71,
   "metadata": {},
   "outputs": [],
   "source": [
    "InputScaled =scaler.fit_transform(Input)"
   ]
  },
  {
   "cell_type": "code",
   "execution_count": 72,
   "metadata": {},
   "outputs": [],
   "source": [
    "InputScaled = pd.DataFrame(InputScaled, columns=InputNames)"
   ]
  },
  {
   "cell_type": "code",
   "execution_count": 73,
   "metadata": {},
   "outputs": [
    {
     "name": "stdout",
     "output_type": "stream",
     "text": [
      "          count          mean       std       min       25%       50%  \\\n",
      "age       296.0 -2.550512e-16  1.001693 -2.823438 -0.720814  0.164501   \n",
      "sex       296.0  6.001206e-18  1.001693 -1.443376 -1.443376  0.692820   \n",
      "cp        296.0  1.860374e-16  1.001693 -2.263690 -0.173043 -0.173043   \n",
      "trestbps  296.0  1.920386e-16  1.001693 -2.121540 -0.656413 -0.092903   \n",
      "chol      296.0  6.601326e-17  1.001693 -2.334999 -0.700097 -0.084604   \n",
      "fbs       296.0  2.700542e-17  1.001693 -0.406638 -0.406638 -0.406638   \n",
      "restecg   296.0 -4.800964e-17  1.001693 -1.000046 -1.000046  0.006803   \n",
      "thalach   296.0  2.160434e-16  1.001693 -3.426010 -0.723490  0.148291   \n",
      "exang     296.0  1.342770e-16  1.001693 -0.698167 -0.698167 -0.698167   \n",
      "oldpeak   296.0  6.001206e-17  1.001693 -0.903324 -0.903324 -0.215962   \n",
      "slope     296.0 -6.901386e-17  1.001693 -0.975788 -0.975788  0.656038   \n",
      "ca        296.0  1.200241e-17  1.001693 -0.723832 -0.723832 -0.723832   \n",
      "hal       296.0 -1.800362e-16  1.001693 -0.891149 -0.891149 -0.891149   \n",
      "\n",
      "               75%       max  \n",
      "age       0.717823  2.488454  \n",
      "sex       0.692820  0.692820  \n",
      "cp        0.872280  0.872280  \n",
      "trestbps  0.470607  3.851669  \n",
      "chol      0.554931  6.089557  \n",
      "fbs      -0.406638  2.459191  \n",
      "restecg   1.013652  1.013652  \n",
      "thalach   0.714949  2.284154  \n",
      "exang     1.432322  1.432322  \n",
      "oldpeak   0.471400  4.423733  \n",
      "slope     0.656038  2.287865  \n",
      "ca        0.342110  2.473994  \n",
      "hal       1.173666  1.173666  \n"
     ]
    }
   ],
   "source": [
    "summary = InputScaled.describe()\n",
    "summary = summary.transpose()\n",
    "print(summary)"
   ]
  },
  {
   "cell_type": "markdown",
   "metadata": {},
   "source": [
    "# Data visualisation"
   ]
  },
  {
   "cell_type": "code",
   "execution_count": 74,
   "metadata": {},
   "outputs": [
    {
     "data": {
      "image/png": "[encoded data removed]",
      "text/plain": [
       "<Figure size 432x288 with 1 Axes>"
      ]
     },
     "metadata": {
      "needs_background": "light"
     },
     "output_type": "display_data"
    }
   ],
   "source": [
    "import matplotlib.pyplot as plt\n",
    "\n",
    "boxplot = InputScaled.boxplot(column=InputNames, showmeans=True)\n",
    "plt.show()"
   ]
  },
  {
   "cell_type": "code",
   "execution_count": 75,
   "metadata": {},
   "outputs": [
    {
     "data": {
      "image/png": "[encoded data removed]",
      "text/plain": [
       "<Figure size 432x432 with 169 Axes>"
      ]
     },
     "metadata": {
      "needs_background": "light"
     },
     "output_type": "display_data"
    }
   ],
   "source": [
    "pd.plotting.scatter_matrix(InputScaled, figsize=(6,6))\n",
    "plt.show()"
   ]
  },
  {
   "cell_type": "code",
   "execution_count": 76,
   "metadata": {},
   "outputs": [
    {
     "name": "stdout",
     "output_type": "stream",
     "text": [
      "               age       sex        cp  trestbps      chol       fbs  \\\n",
      "age       1.000000 -0.094802  0.118743  0.288805  0.203846  0.125821   \n",
      "sex      -0.094802  1.000000  0.014272 -0.068212 -0.197629  0.033539   \n",
      "cp        0.118743  0.014272  1.000000 -0.031599  0.070606 -0.040004   \n",
      "trestbps  0.288805 -0.068212 -0.031599  1.000000  0.132380  0.176636   \n",
      "chol      0.203846 -0.197629  0.070606  0.132380  1.000000  0.015132   \n",
      "fbs       0.125821  0.033539 -0.040004  0.176636  0.015132  1.000000   \n",
      "restecg   0.147193  0.031618  0.072291  0.147075  0.166298  0.061255   \n",
      "thalach  -0.395204 -0.060586 -0.342089 -0.049199 -0.000058 -0.008067   \n",
      "exang     0.098919  0.145444  0.375759  0.068578  0.058744  0.004878   \n",
      "oldpeak   0.194405  0.104357  0.213564  0.189078  0.039676 -0.000472   \n",
      "slope     0.153807  0.028328  0.171151  0.116556 -0.007164  0.029783   \n",
      "ca        0.365356  0.093769  0.232361  0.099967  0.115387  0.159755   \n",
      "hal       0.124787  0.382707  0.276014  0.136750  0.011481  0.057441   \n",
      "\n",
      "           restecg   thalach     exang   oldpeak     slope        ca       hal  \n",
      "age       0.147193 -0.395204  0.098919  0.194405  0.153807  0.365356  0.124787  \n",
      "sex       0.031618 -0.060586  0.145444  0.104357  0.028328  0.093769  0.382707  \n",
      "cp        0.072291 -0.342089  0.375759  0.213564  0.171151  0.232361  0.276014  \n",
      "trestbps  0.147075 -0.049199  0.068578  0.189078  0.116556  0.099967  0.136750  \n",
      "chol      0.166298 -0.000058  0.058744  0.039676 -0.007164  0.115387  0.011481  \n",
      "fbs       0.061255 -0.008067  0.004878 -0.000472  0.029783  0.159755  0.057441  \n",
      "restecg   1.000000 -0.072474  0.084466  0.110482  0.128753  0.131828  0.016598  \n",
      "thalach  -0.072474  1.000000 -0.384642 -0.348376 -0.392858 -0.268921 -0.275070  \n",
      "exang     0.084466 -0.384642  1.000000  0.292629  0.258355  0.146783  0.328979  \n",
      "oldpeak   0.110482 -0.348376  0.292629  1.000000  0.576984  0.297897  0.343520  \n",
      "slope     0.128753 -0.392858  0.258355  0.576984  1.000000  0.116398  0.277282  \n",
      "ca        0.131828 -0.268921  0.146783  0.297897  0.116398  1.000000  0.258398  \n",
      "hal       0.016598 -0.275070  0.328979  0.343520  0.277282  0.258398  1.000000  \n"
     ]
    }
   ],
   "source": [
    "CorData = InputScaled.corr(method='pearson')\n",
    "with pd.option_context('display.max_rows', None, 'display.max_columns', CorData.shape[1]):\n",
    "    print(CorData)"
   ]
  },
  {
   "cell_type": "code",
   "execution_count": 77,
   "metadata": {},
   "outputs": [
    {
     "data": {
      "image/png": "[encoded data removed]",
      "text/plain": [
       "<Figure size 288x288 with 2 Axes>"
      ]
     },
     "metadata": {
      "needs_background": "light"
     },
     "output_type": "display_data"
    }
   ],
   "source": [
    "plt.matshow(CorData)\n",
    "plt.xticks(range(len(CorData.columns)), CorData.columns)\n",
    "plt.yticks(range(len(CorData.columns)), CorData.columns)\n",
    "plt.colorbar()\n",
    "plt.show()"
   ]
  },
  {
   "cell_type": "markdown",
   "metadata": {},
   "source": [
    "# Keras classifier"
   ]
  },
  {
   "cell_type": "code",
   "execution_count": 78,
   "metadata": {},
   "outputs": [],
   "source": [
    "from sklearn.model_selection import train_test_split"
   ]
  },
  {
   "cell_type": "code",
   "execution_count": 80,
   "metadata": {},
   "outputs": [],
   "source": [
    "Input_train, Input_test, Target_train, Target_test = train_test_split(InputScaled, Target, test_size = 0.30, random_state = 5)"
   ]
  },
  {
   "cell_type": "code",
   "execution_count": 82,
   "metadata": {},
   "outputs": [
    {
     "name": "stdout",
     "output_type": "stream",
     "text": [
      "(207, 13)\n",
      "(89, 13)\n",
      "(207, 1)\n",
      "(89, 1)\n"
     ]
    }
   ],
   "source": [
    "print(Input_train.shape)\n",
    "print(Input_test.shape)\n",
    "print(Target_train.shape)\n",
    "print(Target_test.shape)"
   ]
  },
  {
   "cell_type": "code",
   "execution_count": 86,
   "metadata": {},
   "outputs": [],
   "source": [
    "from keras.models import Sequential\n",
    "from keras.layers import Dense"
   ]
  },
  {
   "cell_type": "code",
   "execution_count": 89,
   "metadata": {},
   "outputs": [],
   "source": [
    "model = Sequential()\n",
    "model.add(Dense(30, input_dim=13, activation='tanh'))\n",
    "model.add(Dense(20, activation='tanh'))\n",
    "model.add(Dense(1, activation='sigmoid'))"
   ]
  },
  {
   "cell_type": "code",
   "execution_count": 90,
   "metadata": {},
   "outputs": [],
   "source": [
    "model.compile(optimizer='adam', loss='binary_crossentropy', metrics=['accuracy'])"
   ]
  },
  {
   "cell_type": "code",
   "execution_count": 91,
   "metadata": {},
   "outputs": [
    {
     "data": {
      "text/plain": [
       "<keras.callbacks.History at 0x7f44c653cc88>"
      ]
     },
     "execution_count": 91,
     "metadata": {},
     "output_type": "execute_result"
    }
   ],
   "source": [
    "model.fit(Input_train, Target_train, epochs=1000, verbose=0)"
   ]
  },
  {
   "cell_type": "code",
   "execution_count": 92,
   "metadata": {},
   "outputs": [
    {
     "name": "stdout",
     "output_type": "stream",
     "text": [
      "_________________________________________________________________\n",
      "Layer (type)                 Output Shape              Param #   \n",
      "=================================================================\n",
      "dense_3 (Dense)              (None, 30)                420       \n",
      "_________________________________________________________________\n",
      "dense_4 (Dense)              (None, 20)                620       \n",
      "_________________________________________________________________\n",
      "dense_5 (Dense)              (None, 1)                 21        \n",
      "=================================================================\n",
      "Total params: 1,061\n",
      "Trainable params: 1,061\n",
      "Non-trainable params: 0\n",
      "_________________________________________________________________\n"
     ]
    }
   ],
   "source": [
    "model.summary()"
   ]
  },
  {
   "cell_type": "code",
   "execution_count": 93,
   "metadata": {},
   "outputs": [
    {
     "name": "stdout",
     "output_type": "stream",
     "text": [
      "Keras Model Accuracy =  0.7977528076493339\n"
     ]
    }
   ],
   "source": [
    "score = model.evaluate(Input_test, Target_test, verbose=0)\n",
    "print('Keras Model Accuracy = ', score[1])"
   ]
  },
  {
   "cell_type": "code",
   "execution_count": 94,
   "metadata": {},
   "outputs": [],
   "source": [
    "Target_classification = model.predict(Input_test)\n",
    "Target_classification = (Target_classification > 0.5)"
   ]
  },
  {
   "cell_type": "code",
   "execution_count": 95,
   "metadata": {},
   "outputs": [],
   "source": [
    "from sklearn.metrics import confusion_matrix"
   ]
  },
  {
   "cell_type": "code",
   "execution_count": 96,
   "metadata": {},
   "outputs": [
    {
     "name": "stdout",
     "output_type": "stream",
     "text": [
      "[[36  6]\n",
      " [12 35]]\n"
     ]
    }
   ],
   "source": [
    "print(confusion_matrix(Target_test, Target_classification))"
   ]
  },
  {
   "cell_type": "code",
   "execution_count": null,
   "metadata": {},
   "outputs": [],
   "source": []
  }
 ],
 "metadata": {
  "kernelspec": {
   "display_name": "Python 3",
   "language": "python",
   "name": "python3"
  },
  "language_info": {
   "codemirror_mode": {
    "name": "ipython",
    "version": 3
   },
   "file_extension": ".py",
   "mimetype": "text/x-python",
   "name": "python",
   "nbconvert_exporter": "python",
   "pygments_lexer": "ipython3",
   "version": "3.6.8"
  }
 },
 "nbformat": 4,
 "nbformat_minor": 2
}
